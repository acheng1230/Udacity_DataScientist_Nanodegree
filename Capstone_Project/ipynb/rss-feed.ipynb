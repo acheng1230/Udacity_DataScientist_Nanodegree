{
 "cells": [
  {
   "cell_type": "code",
   "execution_count": 1,
   "metadata": {},
   "outputs": [],
   "source": [
    "import feedparser"
   ]
  },
  {
   "cell_type": "code",
   "execution_count": 2,
   "metadata": {},
   "outputs": [],
   "source": [
    "feed_url = \"https://www.espn.com/espn/rss/nba/news\""
   ]
  },
  {
   "cell_type": "code",
   "execution_count": 3,
   "metadata": {},
   "outputs": [],
   "source": [
    "feed = feedparser.parse(feed_url)"
   ]
  },
  {
   "cell_type": "code",
   "execution_count": 7,
   "metadata": {},
   "outputs": [
    {
     "data": {
      "text/plain": [
       "{'title': \"Celts' Brown skeptical owners will follow through\",\n",
       " 'title_detail': {'type': 'text/plain',\n",
       "  'language': None,\n",
       "  'base': 'https://www.espn.com/espn/rss/nba/news',\n",
       "  'value': \"Celts' Brown skeptical owners will follow through\"},\n",
       " 'summary': \"Celtics forward Jaylen Brown said Saturday that he's not as confident as he'd like to be that NBA team owners will back up their pledges to support players in their push for social justice.\",\n",
       " 'summary_detail': {'type': 'text/html',\n",
       "  'language': None,\n",
       "  'base': 'https://www.espn.com/espn/rss/nba/news',\n",
       "  'value': \"Celtics forward Jaylen Brown said Saturday that he's not as confident as he'd like to be that NBA team owners will back up their pledges to support players in their push for social justice.\"},\n",
       " 'links': [{'rel': 'alternate',\n",
       "   'type': 'text/html',\n",
       "   'href': 'https://www.espn.com/nba/story/_/id/29767784/celtics-jaylen-brown-says-skeptical-nba-owners-back-pledges-support'}],\n",
       " 'link': 'https://www.espn.com/nba/story/_/id/29767784/celtics-jaylen-brown-says-skeptical-nba-owners-back-pledges-support',\n",
       " 'published': 'Sat, 29 Aug 2020 17:55:29 EST',\n",
       " 'published_parsed': time.struct_time(tm_year=2020, tm_mon=8, tm_mday=29, tm_hour=22, tm_min=55, tm_sec=29, tm_wday=5, tm_yday=242, tm_isdst=0),\n",
       " 'id': '29767784',\n",
       " 'guidislink': False}"
      ]
     },
     "execution_count": 7,
     "metadata": {},
     "output_type": "execute_result"
    }
   ],
   "source": [
    "example = feed['entries'][0]\n",
    "example"
   ]
  },
  {
   "cell_type": "code",
   "execution_count": 6,
   "metadata": {},
   "outputs": [
    {
     "data": {
      "text/plain": [
       "15"
      ]
     },
     "execution_count": 6,
     "metadata": {},
     "output_type": "execute_result"
    }
   ],
   "source": [
    "len(feed['entries'])"
   ]
  },
  {
   "cell_type": "code",
   "execution_count": 13,
   "metadata": {},
   "outputs": [
    {
     "name": "stdout",
     "output_type": "stream",
     "text": [
      "Celts' Brown skeptical owners will follow through\n",
      "\n",
      "Sat, 29 Aug 2020 17:55:29 EST\n"
     ]
    }
   ],
   "source": [
    "print(example['title'])\n",
    "print()\n",
    "print(example['published'])"
   ]
  },
  {
   "cell_type": "code",
   "execution_count": 26,
   "metadata": {},
   "outputs": [],
   "source": [
    "news = []\n",
    "links = []\n",
    "\n",
    "for article in feed['entries'][:5]:\n",
    "    news.append(article['title'])\n",
    "    links.append(article['links'][0]['href'])\n",
    "    \n",
    "#news"
   ]
  },
  {
   "cell_type": "code",
   "execution_count": 28,
   "metadata": {},
   "outputs": [
    {
     "name": "stdout",
     "output_type": "stream",
     "text": [
      "Celts' Brown skeptical owners will follow through\n",
      "https://www.espn.com/nba/story/_/id/29767784/celtics-jaylen-brown-says-skeptical-nba-owners-back-pledges-support\n",
      "\n",
      "George says Clippers grew closer amid protest\n",
      "https://www.espn.com/nba/story/_/id/29767764/paul-george-says-clippers-grew-closer-amid-nba-boycott\n",
      "\n",
      "Bucks' Matthews: Not 'apologetic' about boycott\n",
      "https://www.espn.com/nba/story/_/id/29767295/bucks-wesley-matthews-stands-team-decision-boycott\n",
      "\n",
      "Raptors' Lowry (ankle) upgraded to probable\n",
      "https://www.espn.com/nba/story/_/id/29766278/raptors-kyle-lowry-questionable-game-1-sprained-ankle\n",
      "\n",
      "Blazers, UConn star Clifford Robinson dies at 53\n",
      "https://www.espn.com/nba/story/_/id/29765226/former-portland-trail-blazers-great-cliff-robinson-dies-53\n",
      "\n"
     ]
    }
   ],
   "source": [
    "for n, l in zip(news, links):\n",
    "    print(n)\n",
    "    print(l)\n",
    "    print()"
   ]
  },
  {
   "cell_type": "code",
   "execution_count": 29,
   "metadata": {},
   "outputs": [],
   "source": [
    "info = zip(news, links)"
   ]
  },
  {
   "cell_type": "code",
   "execution_count": 30,
   "metadata": {},
   "outputs": [
    {
     "name": "stdout",
     "output_type": "stream",
     "text": [
      "Celts' Brown skeptical owners will follow through\n",
      "https://www.espn.com/nba/story/_/id/29767784/celtics-jaylen-brown-says-skeptical-nba-owners-back-pledges-support\n",
      "George says Clippers grew closer amid protest\n",
      "https://www.espn.com/nba/story/_/id/29767764/paul-george-says-clippers-grew-closer-amid-nba-boycott\n",
      "Bucks' Matthews: Not 'apologetic' about boycott\n",
      "https://www.espn.com/nba/story/_/id/29767295/bucks-wesley-matthews-stands-team-decision-boycott\n",
      "Raptors' Lowry (ankle) upgraded to probable\n",
      "https://www.espn.com/nba/story/_/id/29766278/raptors-kyle-lowry-questionable-game-1-sprained-ankle\n",
      "Blazers, UConn star Clifford Robinson dies at 53\n",
      "https://www.espn.com/nba/story/_/id/29765226/former-portland-trail-blazers-great-cliff-robinson-dies-53\n"
     ]
    }
   ],
   "source": [
    "for title, link in info:\n",
    "    print(title)\n",
    "    print(link)"
   ]
  },
  {
   "cell_type": "code",
   "execution_count": null,
   "metadata": {},
   "outputs": [],
   "source": []
  },
  {
   "cell_type": "code",
   "execution_count": null,
   "metadata": {},
   "outputs": [],
   "source": []
  },
  {
   "cell_type": "code",
   "execution_count": null,
   "metadata": {},
   "outputs": [],
   "source": []
  },
  {
   "cell_type": "code",
   "execution_count": null,
   "metadata": {},
   "outputs": [],
   "source": []
  },
  {
   "cell_type": "code",
   "execution_count": null,
   "metadata": {},
   "outputs": [],
   "source": []
  }
 ],
 "metadata": {
  "kernelspec": {
   "display_name": "Python 3",
   "language": "python",
   "name": "python3"
  },
  "language_info": {
   "codemirror_mode": {
    "name": "ipython",
    "version": 3
   },
   "file_extension": ".py",
   "mimetype": "text/x-python",
   "name": "python",
   "nbconvert_exporter": "python",
   "pygments_lexer": "ipython3",
   "version": "3.8.1"
  }
 },
 "nbformat": 4,
 "nbformat_minor": 4
}
