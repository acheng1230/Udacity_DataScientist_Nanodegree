{
 "cells": [
  {
   "cell_type": "markdown",
   "metadata": {},
   "source": [
    "Dataframes Needed:\n",
    "- Live games (Teams playing, scores, results)\n",
    "- Box scores (Player stats)\n",
    "- Lead tracker\n",
    "\n",
    "Home Page\n",
    "- Live game scores, Youtube videos of highlights\n",
    "\n",
    "Game Page\n",
    "- Box scores\n",
    "- Matchup stats (lead tracker, team %s)\n",
    "- Youtube highlight\n",
    "\n",
    "Visualizations\n",
    "- [Blank]"
   ]
  },
  {
   "cell_type": "code",
   "execution_count": 1,
   "metadata": {},
   "outputs": [],
   "source": [
    "import nbapy\n",
    "import datetime\n",
    "import warnings\n",
    "import pandas as pd\n",
    "import dateutil.parser\n",
    "from nbapy import game\n",
    "from nbapy.scoreboard import Scoreboard\n",
    "\n",
    "pd.set_option('max_columns', None)\n",
    "pd.options.mode.chained_assignment = None"
   ]
  },
  {
   "cell_type": "code",
   "execution_count": 2,
   "metadata": {},
   "outputs": [],
   "source": [
    "test_gameid = '0021901318'\n",
    "test_date = '08-13-2020'"
   ]
  },
  {
   "cell_type": "code",
   "execution_count": 3,
   "metadata": {},
   "outputs": [],
   "source": [
    "import constants"
   ]
  },
  {
   "cell_type": "markdown",
   "metadata": {},
   "source": [
    "### Get Games Function"
   ]
  },
  {
   "cell_type": "code",
   "execution_count": 4,
   "metadata": {},
   "outputs": [
    {
     "data": {
      "text/html": [
       "<div>\n",
       "<style scoped>\n",
       "    .dataframe tbody tr th:only-of-type {\n",
       "        vertical-align: middle;\n",
       "    }\n",
       "\n",
       "    .dataframe tbody tr th {\n",
       "        vertical-align: top;\n",
       "    }\n",
       "\n",
       "    .dataframe thead th {\n",
       "        text-align: right;\n",
       "    }\n",
       "</style>\n",
       "<table border=\"1\" class=\"dataframe\">\n",
       "  <thead>\n",
       "    <tr style=\"text-align: right;\">\n",
       "      <th></th>\n",
       "      <th>GAME_SEQUENCE</th>\n",
       "      <th>GAME_ID</th>\n",
       "      <th>GAME_STATUS_TEXT</th>\n",
       "      <th>LIVE_PERIOD</th>\n",
       "      <th>HOME_TEAM_ID</th>\n",
       "      <th>VISITOR_TEAM_ID</th>\n",
       "      <th>NATL_TV_BROADCASTER_ABBREVIATION</th>\n",
       "      <th>HOME_TEAM_ABBREVIATION</th>\n",
       "      <th>VISITOR_TEAM_ABBREVIATION</th>\n",
       "      <th>HOME_TEAM_PTS</th>\n",
       "      <th>VISITOR_TEAM_PTS</th>\n",
       "      <th>WINNER</th>\n",
       "    </tr>\n",
       "  </thead>\n",
       "  <tbody>\n",
       "    <tr>\n",
       "      <th>0</th>\n",
       "      <td>1</td>\n",
       "      <td>0021901308</td>\n",
       "      <td>Final</td>\n",
       "      <td>4</td>\n",
       "      <td>1610612738</td>\n",
       "      <td>1610612764</td>\n",
       "      <td>None</td>\n",
       "      <td>BOS</td>\n",
       "      <td>WAS</td>\n",
       "      <td>90</td>\n",
       "      <td>96</td>\n",
       "      <td>WAS</td>\n",
       "    </tr>\n",
       "    <tr>\n",
       "      <th>1</th>\n",
       "      <td>2</td>\n",
       "      <td>0021901310</td>\n",
       "      <td>Final</td>\n",
       "      <td>4</td>\n",
       "      <td>1610612747</td>\n",
       "      <td>1610612758</td>\n",
       "      <td>None</td>\n",
       "      <td>LAL</td>\n",
       "      <td>SAC</td>\n",
       "      <td>122</td>\n",
       "      <td>136</td>\n",
       "      <td>SAC</td>\n",
       "    </tr>\n",
       "    <tr>\n",
       "      <th>2</th>\n",
       "      <td>3</td>\n",
       "      <td>0021901311</td>\n",
       "      <td>Final</td>\n",
       "      <td>4</td>\n",
       "      <td>1610612763</td>\n",
       "      <td>1610612749</td>\n",
       "      <td>None</td>\n",
       "      <td>MEM</td>\n",
       "      <td>MIL</td>\n",
       "      <td>119</td>\n",
       "      <td>106</td>\n",
       "      <td>MEM</td>\n",
       "    </tr>\n",
       "    <tr>\n",
       "      <th>3</th>\n",
       "      <td>4</td>\n",
       "      <td>0021901313</td>\n",
       "      <td>Final</td>\n",
       "      <td>4</td>\n",
       "      <td>1610612756</td>\n",
       "      <td>1610612742</td>\n",
       "      <td>TNT</td>\n",
       "      <td>PHX</td>\n",
       "      <td>DAL</td>\n",
       "      <td>128</td>\n",
       "      <td>102</td>\n",
       "      <td>PHX</td>\n",
       "    </tr>\n",
       "    <tr>\n",
       "      <th>4</th>\n",
       "      <td>5</td>\n",
       "      <td>0021901314</td>\n",
       "      <td>Final</td>\n",
       "      <td>4</td>\n",
       "      <td>1610612762</td>\n",
       "      <td>1610612759</td>\n",
       "      <td>TNT</td>\n",
       "      <td>UTA</td>\n",
       "      <td>SAS</td>\n",
       "      <td>118</td>\n",
       "      <td>112</td>\n",
       "      <td>UTA</td>\n",
       "    </tr>\n",
       "    <tr>\n",
       "      <th>5</th>\n",
       "      <td>6</td>\n",
       "      <td>0021901309</td>\n",
       "      <td>Final</td>\n",
       "      <td>4</td>\n",
       "      <td>1610612751</td>\n",
       "      <td>1610612757</td>\n",
       "      <td>TNT</td>\n",
       "      <td>BKN</td>\n",
       "      <td>POR</td>\n",
       "      <td>133</td>\n",
       "      <td>134</td>\n",
       "      <td>POR</td>\n",
       "    </tr>\n",
       "    <tr>\n",
       "      <th>6</th>\n",
       "      <td>7</td>\n",
       "      <td>0021901312</td>\n",
       "      <td>Final</td>\n",
       "      <td>4</td>\n",
       "      <td>1610612753</td>\n",
       "      <td>1610612740</td>\n",
       "      <td>None</td>\n",
       "      <td>ORL</td>\n",
       "      <td>NOP</td>\n",
       "      <td>133</td>\n",
       "      <td>127</td>\n",
       "      <td>ORL</td>\n",
       "    </tr>\n",
       "  </tbody>\n",
       "</table>\n",
       "</div>"
      ],
      "text/plain": [
       "   GAME_SEQUENCE     GAME_ID GAME_STATUS_TEXT  LIVE_PERIOD  HOME_TEAM_ID  \\\n",
       "0              1  0021901308            Final            4    1610612738   \n",
       "1              2  0021901310            Final            4    1610612747   \n",
       "2              3  0021901311            Final            4    1610612763   \n",
       "3              4  0021901313            Final            4    1610612756   \n",
       "4              5  0021901314            Final            4    1610612762   \n",
       "5              6  0021901309            Final            4    1610612751   \n",
       "6              7  0021901312            Final            4    1610612753   \n",
       "\n",
       "   VISITOR_TEAM_ID NATL_TV_BROADCASTER_ABBREVIATION HOME_TEAM_ABBREVIATION  \\\n",
       "0       1610612764                             None                    BOS   \n",
       "1       1610612758                             None                    LAL   \n",
       "2       1610612749                             None                    MEM   \n",
       "3       1610612742                              TNT                    PHX   \n",
       "4       1610612759                              TNT                    UTA   \n",
       "5       1610612757                              TNT                    BKN   \n",
       "6       1610612740                             None                    ORL   \n",
       "\n",
       "  VISITOR_TEAM_ABBREVIATION  HOME_TEAM_PTS  VISITOR_TEAM_PTS WINNER  \n",
       "0                       WAS             90                96    WAS  \n",
       "1                       SAC            122               136    SAC  \n",
       "2                       MIL            119               106    MEM  \n",
       "3                       DAL            128               102    PHX  \n",
       "4                       SAS            118               112    UTA  \n",
       "5                       POR            133               134    POR  \n",
       "6                       NOP            133               127    ORL  "
      ]
     },
     "execution_count": 4,
     "metadata": {},
     "output_type": "execute_result"
    }
   ],
   "source": [
    "def get_games(datestring):\n",
    "    \"\"\"\n",
    "    Input:\n",
    "        datestring (str) - date of NBA games to grab\n",
    "    \n",
    "    Output:\n",
    "        games (pandas df) - dataframe of NBA games, results, and teams playing\n",
    "        \n",
    "    \"\"\"\n",
    "    date = dateutil.parser.parse(datestring)\n",
    "    scoreboard = Scoreboard(date.month, date.day, date.year)\n",
    "    \n",
    "    # Grab today's game information\n",
    "    game_header = scoreboard.game_header()\n",
    "    line_score = scoreboard.line_score()\n",
    "    \n",
    "    # Simplify columns\n",
    "    games = game_header[['GAME_SEQUENCE', 'GAME_ID', 'GAME_STATUS_TEXT', \n",
    "                         'LIVE_PERIOD', 'HOME_TEAM_ID', 'VISITOR_TEAM_ID',\n",
    "                         'NATL_TV_BROADCASTER_ABBREVIATION']]\n",
    "    score = line_score[['GAME_ID', 'TEAM_ID', 'TEAM_ABBREVIATION', 'PTS']]\n",
    "    \n",
    "    # Dictionary of game values\n",
    "    team_info = score.set_index('TEAM_ID')['TEAM_ABBREVIATION'].to_dict()\n",
    "    team_pts = score.set_index('TEAM_ID')['PTS'].to_dict()\n",
    "    \n",
    "    # Map to games info\n",
    "    games['HOME_TEAM_ABBREVIATION'] = games.HOME_TEAM_ID.map(team_info)\n",
    "    games['VISITOR_TEAM_ABBREVIATION'] = games.VISITOR_TEAM_ID.map(team_info)\n",
    "    games['HOME_TEAM_PTS'] = games.HOME_TEAM_ID.map(team_pts)\n",
    "    games['VISITOR_TEAM_PTS'] = games.VISITOR_TEAM_ID.map(team_pts)\n",
    "    \n",
    "    # Create a winner column for web layout\n",
    "    winners = []\n",
    "    for i, value in games.iterrows():\n",
    "        if (value[\"HOME_TEAM_PTS\"] > value[\"VISITOR_TEAM_PTS\"]):\n",
    "            winners.append(value[\"HOME_TEAM_ABBREVIATION\"])\n",
    "        elif (value[\"HOME_TEAM_PTS\"] < value[\"VISITOR_TEAM_PTS\"]):\n",
    "            winners.append(value[\"VISITOR_TEAM_ABBREVIATION\"])\n",
    "        else:\n",
    "            winners.append(None)\n",
    "    \n",
    "    games['WINNER'] = winners\n",
    "    \n",
    "    return games\n",
    "\n",
    "games = get_games(test_date)\n",
    "games"
   ]
  },
  {
   "cell_type": "code",
   "execution_count": 11,
   "metadata": {},
   "outputs": [
    {
     "name": "stdout",
     "output_type": "stream",
     "text": [
      "<class 'pandas.core.frame.DataFrame'>\n",
      "RangeIndex: 7 entries, 0 to 6\n",
      "Data columns (total 12 columns):\n",
      "GAME_SEQUENCE                       7 non-null int64\n",
      "GAME_ID                             7 non-null object\n",
      "GAME_STATUS_TEXT                    7 non-null object\n",
      "LIVE_PERIOD                         7 non-null int64\n",
      "HOME_TEAM_ID                        7 non-null int64\n",
      "VISITOR_TEAM_ID                     7 non-null int64\n",
      "NATL_TV_BROADCASTER_ABBREVIATION    3 non-null object\n",
      "HOME_TEAM_ABBREVIATION              7 non-null object\n",
      "VISITOR_TEAM_ABBREVIATION           7 non-null object\n",
      "HOME_TEAM_PTS                       7 non-null int64\n",
      "VISITOR_TEAM_PTS                    7 non-null int64\n",
      "WINNER                              7 non-null object\n",
      "dtypes: int64(6), object(6)\n",
      "memory usage: 800.0+ bytes\n"
     ]
    }
   ],
   "source": [
    "games.info()"
   ]
  },
  {
   "cell_type": "markdown",
   "metadata": {},
   "source": [
    "### Get Live Games"
   ]
  },
  {
   "cell_type": "markdown",
   "metadata": {},
   "source": [
    "Columns Needed\n",
    "- GAME_STATUS_TEXT\n",
    "- HOME_TEAM_ABBREVIATION\n",
    "- VISITOR_TEAM_ABBREVIATION\n",
    "- HOME_TEAM_PTS\n",
    "- VISITOR_TEAM_PTS"
   ]
  },
  {
   "cell_type": "code",
   "execution_count": 13,
   "metadata": {},
   "outputs": [
    {
     "data": {
      "text/html": [
       "<div>\n",
       "<style scoped>\n",
       "    .dataframe tbody tr th:only-of-type {\n",
       "        vertical-align: middle;\n",
       "    }\n",
       "\n",
       "    .dataframe tbody tr th {\n",
       "        vertical-align: top;\n",
       "    }\n",
       "\n",
       "    .dataframe thead th {\n",
       "        text-align: right;\n",
       "    }\n",
       "</style>\n",
       "<table border=\"1\" class=\"dataframe\">\n",
       "  <thead>\n",
       "    <tr style=\"text-align: right;\">\n",
       "      <th></th>\n",
       "      <th>GAME_SEQUENCE</th>\n",
       "      <th>GAME_ID</th>\n",
       "      <th>GAME_STATUS_TEXT</th>\n",
       "      <th>LIVE_PERIOD</th>\n",
       "      <th>HOME_TEAM_ID</th>\n",
       "      <th>VISITOR_TEAM_ID</th>\n",
       "      <th>NATL_TV_BROADCASTER_ABBREVIATION</th>\n",
       "      <th>HOME_TEAM_ABBREVIATION</th>\n",
       "      <th>VISITOR_TEAM_ABBREVIATION</th>\n",
       "      <th>HOME_TEAM_PTS</th>\n",
       "      <th>VISITOR_TEAM_PTS</th>\n",
       "      <th>WINNER</th>\n",
       "    </tr>\n",
       "  </thead>\n",
       "  <tbody>\n",
       "    <tr>\n",
       "      <th>0</th>\n",
       "      <td>1</td>\n",
       "      <td>0041900113</td>\n",
       "      <td>1st Qtr</td>\n",
       "      <td>1</td>\n",
       "      <td>1610612751</td>\n",
       "      <td>1610612761</td>\n",
       "      <td>NBA TV</td>\n",
       "      <td>BKN</td>\n",
       "      <td>TOR</td>\n",
       "      <td>13</td>\n",
       "      <td>20</td>\n",
       "      <td>TOR</td>\n",
       "    </tr>\n",
       "    <tr>\n",
       "      <th>1</th>\n",
       "      <td>2</td>\n",
       "      <td>0041900163</td>\n",
       "      <td>4:00 pm ET</td>\n",
       "      <td>0</td>\n",
       "      <td>1610612762</td>\n",
       "      <td>1610612743</td>\n",
       "      <td>TNT</td>\n",
       "      <td>UTA</td>\n",
       "      <td>DEN</td>\n",
       "      <td>0</td>\n",
       "      <td>0</td>\n",
       "      <td>0</td>\n",
       "    </tr>\n",
       "    <tr>\n",
       "      <th>2</th>\n",
       "      <td>3</td>\n",
       "      <td>0041900123</td>\n",
       "      <td>6:30 pm ET</td>\n",
       "      <td>0</td>\n",
       "      <td>1610612755</td>\n",
       "      <td>1610612738</td>\n",
       "      <td>TNT</td>\n",
       "      <td>PHI</td>\n",
       "      <td>BOS</td>\n",
       "      <td>0</td>\n",
       "      <td>0</td>\n",
       "      <td>0</td>\n",
       "    </tr>\n",
       "    <tr>\n",
       "      <th>3</th>\n",
       "      <td>4</td>\n",
       "      <td>0041900153</td>\n",
       "      <td>9:00 pm ET</td>\n",
       "      <td>0</td>\n",
       "      <td>1610612742</td>\n",
       "      <td>1610612746</td>\n",
       "      <td>TNT</td>\n",
       "      <td>DAL</td>\n",
       "      <td>LAC</td>\n",
       "      <td>0</td>\n",
       "      <td>0</td>\n",
       "      <td>0</td>\n",
       "    </tr>\n",
       "  </tbody>\n",
       "</table>\n",
       "</div>"
      ],
      "text/plain": [
       "   GAME_SEQUENCE     GAME_ID GAME_STATUS_TEXT  LIVE_PERIOD  HOME_TEAM_ID  \\\n",
       "0              1  0041900113          1st Qtr            1    1610612751   \n",
       "1              2  0041900163       4:00 pm ET            0    1610612762   \n",
       "2              3  0041900123       6:30 pm ET            0    1610612755   \n",
       "3              4  0041900153       9:00 pm ET            0    1610612742   \n",
       "\n",
       "   VISITOR_TEAM_ID NATL_TV_BROADCASTER_ABBREVIATION HOME_TEAM_ABBREVIATION  \\\n",
       "0       1610612761                           NBA TV                    BKN   \n",
       "1       1610612743                              TNT                    UTA   \n",
       "2       1610612738                              TNT                    PHI   \n",
       "3       1610612746                              TNT                    DAL   \n",
       "\n",
       "  VISITOR_TEAM_ABBREVIATION  HOME_TEAM_PTS  VISITOR_TEAM_PTS WINNER  \n",
       "0                       TOR             13                20    TOR  \n",
       "1                       DEN              0                 0      0  \n",
       "2                       BOS              0                 0      0  \n",
       "3                       LAC              0                 0      0  "
      ]
     },
     "execution_count": 13,
     "metadata": {},
     "output_type": "execute_result"
    }
   ],
   "source": [
    "def get_livegames():\n",
    "    \"\"\"\n",
    "    Input:\n",
    "        None\n",
    "        \n",
    "    Output:\n",
    "        live_games (pandas df) - Dataframe showing results for today's NBA games\n",
    "    \"\"\"\n",
    "    today = datetime.datetime.now()\n",
    "    today_string = today.strftime(\"%m-%d-%Y\")\n",
    "    live_games = get_games(today_string)\n",
    "    live_games = live_games.fillna(0)\n",
    "    live_games[[\"HOME_TEAM_PTS\", \"VISITOR_TEAM_PTS\"]] = live_games[[\"HOME_TEAM_PTS\", \"VISITOR_TEAM_PTS\"]].astype(int)\n",
    "    return live_games\n",
    "\n",
    "live_games = get_livegames()\n",
    "live_games"
   ]
  },
  {
   "cell_type": "code",
   "execution_count": 15,
   "metadata": {},
   "outputs": [
    {
     "data": {
      "text/plain": [
       "'08/21/2020'"
      ]
     },
     "execution_count": 15,
     "metadata": {},
     "output_type": "execute_result"
    }
   ],
   "source": [
    "today = datetime.datetime.now()\n",
    "today_string = today.strftime(\"%m/%d/%Y\")\n",
    "today_string"
   ]
  },
  {
   "cell_type": "markdown",
   "metadata": {},
   "source": [
    "### Get Box Scores"
   ]
  },
  {
   "cell_type": "code",
   "execution_count": null,
   "metadata": {},
   "outputs": [],
   "source": [
    "def get_boxscore(game_id):\n",
    "    \"\"\"\n",
    "    Input:\n",
    "        game_id (str) - Game ID to pull box scores\n",
    "    \n",
    "    Output:\n",
    "        box_score (pandas df) - Dataframe containing the box score results of Game ID\n",
    "        \n",
    "    \"\"\"\n",
    "    box_score = game.BoxScore(game_id).players_stats()\n",
    "    return box_score\n",
    "\n",
    "boxscore = get_boxscore(test_gameid)\n",
    "boxscore.head()"
   ]
  },
  {
   "cell_type": "markdown",
   "metadata": {},
   "source": [
    "### Get Team Stats"
   ]
  },
  {
   "cell_type": "code",
   "execution_count": null,
   "metadata": {},
   "outputs": [],
   "source": [
    "def get_teamstats(game_id):\n",
    "    \"\"\"\n",
    "    Input:\n",
    "        game_id (str) - Game ID to pull team stats\n",
    "        \n",
    "    Output:\n",
    "        team_stats (pandas df) - Dataframe showing the teams percentages\n",
    "    \n",
    "    \"\"\"\n",
    "    team_stats = game.BoxScore(game_id).team_stats()\n",
    "    return team_stats\n",
    "\n",
    "team_stats = get_teamstats(test_gameid)\n",
    "team_stats"
   ]
  },
  {
   "cell_type": "markdown",
   "metadata": {},
   "source": [
    "### Get Lead Tracker"
   ]
  },
  {
   "cell_type": "code",
   "execution_count": null,
   "metadata": {},
   "outputs": [],
   "source": [
    "def get_linescore(game_id):\n",
    "    \"\"\"\n",
    "    Input:\n",
    "        game_id (str) - Game ID to pull line score\n",
    "    \n",
    "    Ouput:\n",
    "        line_score (pandas df) - Dataframe showing the points by quarter\n",
    "    \n",
    "    \"\"\"\n",
    "    line_score = game.Info(game_id).line_score()\n",
    "    return line_score\n",
    "\n",
    "line_score = get_linescore(test_gameid)\n",
    "line_score"
   ]
  },
  {
   "cell_type": "markdown",
   "metadata": {},
   "source": [
    "### Get Standings"
   ]
  },
  {
   "cell_type": "code",
   "execution_count": null,
   "metadata": {},
   "outputs": [],
   "source": [
    "scoreboard = Scoreboard()\n",
    "east_standings = scoreboard.east_conf_standings_by_day()\n",
    "west_standings = scoreboard.west_conf_standings_by_day()"
   ]
  },
  {
   "cell_type": "code",
   "execution_count": null,
   "metadata": {},
   "outputs": [],
   "source": [
    "west_standings"
   ]
  },
  {
   "cell_type": "code",
   "execution_count": null,
   "metadata": {},
   "outputs": [],
   "source": [
    "for i, value in east_standings.iterrows():\n",
    "    print(value[\"TEAM\"])"
   ]
  },
  {
   "cell_type": "markdown",
   "metadata": {},
   "source": [
    "### Workspace"
   ]
  },
  {
   "cell_type": "code",
   "execution_count": 7,
   "metadata": {},
   "outputs": [
    {
     "data": {
      "text/plain": [
       "['08/20/2020']"
      ]
     },
     "execution_count": 7,
     "metadata": {},
     "output_type": "execute_result"
    }
   ],
   "source": [
    "test_list = ['08/20/2020']\n",
    "test_list"
   ]
  },
  {
   "cell_type": "code",
   "execution_count": 8,
   "metadata": {},
   "outputs": [
    {
     "data": {
      "text/plain": [
       "'08/20/2020'"
      ]
     },
     "execution_count": 8,
     "metadata": {},
     "output_type": "execute_result"
    }
   ],
   "source": [
    "test_list[0]"
   ]
  },
  {
   "cell_type": "code",
   "execution_count": null,
   "metadata": {},
   "outputs": [],
   "source": []
  },
  {
   "cell_type": "code",
   "execution_count": null,
   "metadata": {},
   "outputs": [],
   "source": []
  },
  {
   "cell_type": "code",
   "execution_count": null,
   "metadata": {},
   "outputs": [],
   "source": []
  },
  {
   "cell_type": "code",
   "execution_count": null,
   "metadata": {},
   "outputs": [],
   "source": []
  }
 ],
 "metadata": {
  "kernelspec": {
   "display_name": "Python 3",
   "language": "python",
   "name": "python3"
  },
  "language_info": {
   "codemirror_mode": {
    "name": "ipython",
    "version": 3
   },
   "file_extension": ".py",
   "mimetype": "text/x-python",
   "name": "python",
   "nbconvert_exporter": "python",
   "pygments_lexer": "ipython3",
   "version": "3.8.1"
  }
 },
 "nbformat": 4,
 "nbformat_minor": 4
}
