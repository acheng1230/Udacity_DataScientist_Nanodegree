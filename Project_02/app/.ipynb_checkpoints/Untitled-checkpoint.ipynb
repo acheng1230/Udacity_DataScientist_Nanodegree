{
 "cells": [
  {
   "cell_type": "code",
   "execution_count": 1,
   "metadata": {},
   "outputs": [],
   "source": [
    "import json, plotly"
   ]
  },
  {
   "cell_type": "code",
   "execution_count": 2,
   "metadata": {},
   "outputs": [],
   "source": [
    "import pandas as pd\n",
    "import plotly.graph_objs as go\n",
    "from showdata import return_figures\n",
    "from sqlalchemy import create_engine"
   ]
  },
  {
   "cell_type": "code",
   "execution_count": 3,
   "metadata": {},
   "outputs": [],
   "source": [
    "import plotly.io as pio"
   ]
  },
  {
   "cell_type": "code",
   "execution_count": 4,
   "metadata": {},
   "outputs": [
    {
     "data": {
      "text/plain": [
       "Renderers configuration\n",
       "-----------------------\n",
       "    Default renderer: 'plotly_mimetype+notebook'\n",
       "    Available renderers:\n",
       "        ['plotly_mimetype', 'jupyterlab', 'nteract', 'vscode',\n",
       "         'notebook', 'notebook_connected', 'kaggle', 'azure', 'colab',\n",
       "         'cocalc', 'databricks', 'json', 'png', 'jpeg', 'jpg', 'svg',\n",
       "         'pdf', 'browser', 'firefox', 'chrome', 'chromium', 'iframe',\n",
       "         'iframe_connected', 'sphinx_gallery', 'sphinx_gallery_png']"
      ]
     },
     "execution_count": 4,
     "metadata": {},
     "output_type": "execute_result"
    }
   ],
   "source": [
    "pio.renderers"
   ]
  },
  {
   "cell_type": "code",
   "execution_count": null,
   "metadata": {},
   "outputs": [],
   "source": [
    "# load data\n",
    "engine = create_engine('sqlite:///../data/DisasterResponse.db')\n",
    "df = pd.read_sql_table('DisasterResponse', engine)"
   ]
  },
  {
   "cell_type": "code",
   "execution_count": null,
   "metadata": {},
   "outputs": [],
   "source": [
    "figures = return_figures()"
   ]
  },
  {
   "cell_type": "code",
   "execution_count": null,
   "metadata": {},
   "outputs": [],
   "source": [
    "# extract data needed for visuals\n",
    "# TODO: Below is an example - modify to extract data for your own visuals\n",
    "genre_counts = df.groupby('genre').count()['message']\n",
    "genre_names = list(genre_counts.index)\n",
    "\n",
    "# get columns names and count for each catagory\n",
    "category_names = df.loc[:, 'related':'direct_report'].columns\n",
    "category_count = df.loc[:, 'related':'direct_report'].sum().values\n",
    "\n",
    "# get the lenggth of each diaster message \n",
    "len_messages = df['message'].apply(len)"
   ]
  },
  {
   "cell_type": "code",
   "execution_count": null,
   "metadata": {},
   "outputs": [],
   "source": [
    "graphs = [\n",
    "        # GRAPH 1 - genre\n",
    "    {\n",
    "        'data': [\n",
    "            go.Bar(\n",
    "                x=genre_names,\n",
    "                y=genre_counts\n",
    "            )\n",
    "        ],\n",
    "\n",
    "        'layout': {\n",
    "            'title': 'Distribution of Message Genres',\n",
    "            'yaxis': {\n",
    "                'title': \"Count\"\n",
    "            },\n",
    "            'xaxis': {\n",
    "                'title': \"Genre\"\n",
    "            }\n",
    "        }\n",
    "    },\n",
    "        # GRAPH 2 - counts of catagories\n",
    "    {\n",
    "        'data': [\n",
    "            go.Bar(\n",
    "                x=category_names,\n",
    "                y=category_count\n",
    "            )\n",
    "        ],\n",
    "\n",
    "        'layout': {\n",
    "            'title': 'Count of Categories',\n",
    "            'yaxis': {\n",
    "                'title': 'Count'\n",
    "            },\n",
    "            'xaxis': {\n",
    "                'title': 'categories'\n",
    "            }\n",
    "        }\n",
    "    },\n",
    "        # GRAPH 3 - Histogram with len of message\n",
    "    {\n",
    "        'data': [\n",
    "            go.Histogram(\n",
    "                x=len_messages,\n",
    "                nbinsx=500\n",
    "                )\n",
    "            ],\n",
    "\n",
    "        'layout': {\n",
    "            'title': 'length of messages',\n",
    "            'yaxis': {\n",
    "                'title': 'count'\n",
    "            },\n",
    "            'xaxis': {\n",
    "                'title': 'lenghth of messages' \n",
    "            }                   \n",
    "        }\n",
    "    }  \n",
    "]"
   ]
  },
  {
   "cell_type": "code",
   "execution_count": null,
   "metadata": {},
   "outputs": [],
   "source": [
    "cat_df = df.drop(['id', 'message', 'original', 'genre'], axis=1)\n",
    "cat_names = list(cat_df.columns.values)\n",
    "cat_counts = cat_df.sum()"
   ]
  },
  {
   "cell_type": "code",
   "execution_count": null,
   "metadata": {},
   "outputs": [],
   "source": [
    "from plotly.graph_objs import Pie, Bar"
   ]
  },
  {
   "cell_type": "code",
   "execution_count": null,
   "metadata": {},
   "outputs": [],
   "source": [
    "    #graphs = return_figures()\n",
    "    graphs = [\n",
    "        # GRAPH 1 - genre\n",
    "    {\n",
    "        'data': [\n",
    "            Pie(\n",
    "                labels=genre_names,\n",
    "                values=genre_counts\n",
    "            )\n",
    "        ],\n",
    "\n",
    "        'layout': {\n",
    "            'title': 'Source of Training Data',\n",
    "        }\n",
    "    },\n",
    "        # GRAPH 2 - counts of catagories\n",
    "    {\n",
    "        'data': [\n",
    "            Bar(\n",
    "                x=cat_names,\n",
    "                y=cat_counts\n",
    "            )\n",
    "        ],\n",
    "\n",
    "        'layout': {\n",
    "            'title': 'Count of Categories',\n",
    "            'yaxis': {\n",
    "                'title': 'Count'},\n",
    "            'xaxis': {\n",
    "                'title': 'categories'}\n",
    "        }\n",
    "    }\n",
    "    ]"
   ]
  },
  {
   "cell_type": "code",
   "execution_count": null,
   "metadata": {},
   "outputs": [],
   "source": [
    "graphs"
   ]
  },
  {
   "cell_type": "code",
   "execution_count": null,
   "metadata": {},
   "outputs": [],
   "source": [
    "# encode plotly graphs in JSON\n",
    "ids = [\"graph-{}\".format(i) for i, _ in enumerate(graphs)]\n",
    "graphJSON = json.dumps(graphs, cls=plotly.utils.PlotlyJSONEncoder)"
   ]
  },
  {
   "cell_type": "code",
   "execution_count": null,
   "metadata": {},
   "outputs": [],
   "source": []
  }
 ],
 "metadata": {
  "kernelspec": {
   "display_name": "Python 3",
   "language": "python",
   "name": "python3"
  },
  "language_info": {
   "codemirror_mode": {
    "name": "ipython",
    "version": 3
   },
   "file_extension": ".py",
   "mimetype": "text/x-python",
   "name": "python",
   "nbconvert_exporter": "python",
   "pygments_lexer": "ipython3",
   "version": "3.8.1"
  }
 },
 "nbformat": 4,
 "nbformat_minor": 4
}
