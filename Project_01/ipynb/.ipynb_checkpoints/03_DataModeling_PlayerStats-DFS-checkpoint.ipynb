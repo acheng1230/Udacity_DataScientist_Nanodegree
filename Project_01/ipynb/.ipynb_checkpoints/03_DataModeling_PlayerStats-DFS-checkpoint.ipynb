{
 "cells": [
  {
   "cell_type": "markdown",
   "metadata": {},
   "source": [
    "# Project 01 - Write a Data Science Blog Post\n",
    "\n",
    "## Part 3: Data Modeling\n",
    "\n",
    "### Data\n",
    " - NBA 2018-2019 Player Box Scores \n",
    " - NBA 2018-2019 Daily Fantasy Scores (DFS)\n",
    " \n",
    "### Business Questions\n",
    "1. What are the key drivers for top fantasy scores?\n",
    "2. What positions offer the most value from a fantasy score perspective?\n",
    "3. What trends can be observed during the NBA season from a fantasy score perspective?"
   ]
  },
  {
   "cell_type": "markdown",
   "metadata": {},
   "source": [
    " "
   ]
  },
  {
   "cell_type": "markdown",
   "metadata": {},
   "source": [
    "### Import Packages"
   ]
  },
  {
   "cell_type": "code",
   "execution_count": 1,
   "metadata": {},
   "outputs": [],
   "source": [
    "import os\n",
    "import numpy as np\n",
    "import pandas as pd\n",
    "import seaborn as sns\n",
    "import matplotlib.pyplot as plt\n",
    "import matplotlib.style as style\n",
    "from sklearn.metrics import r2_score\n",
    "from sklearn.preprocessing import StandardScaler\n",
    "from sklearn.ensemble import RandomForestRegressor\n",
    "from sklearn.model_selection import train_test_split\n",
    "%matplotlib inline\n",
    "\n",
    "# Use FiveThirtyEight's style of graphs\n",
    "style.use('fivethirtyeight')\n",
    "\n",
    "# Use 2 decimal places in output display\n",
    "pd.options.display.float_format = \"{:,.2f}\".format"
   ]
  },
  {
   "cell_type": "code",
   "execution_count": 2,
   "metadata": {},
   "outputs": [],
   "source": [
    "os.chdir('../lib')"
   ]
  },
  {
   "cell_type": "code",
   "execution_count": 3,
   "metadata": {},
   "outputs": [],
   "source": [
    "from helpers import get_feature_importance"
   ]
  },
  {
   "cell_type": "markdown",
   "metadata": {},
   "source": [
    "### Import Data"
   ]
  },
  {
   "cell_type": "code",
   "execution_count": 4,
   "metadata": {},
   "outputs": [],
   "source": [
    "os.chdir('../data')"
   ]
  },
  {
   "cell_type": "code",
   "execution_count": 5,
   "metadata": {},
   "outputs": [
    {
     "data": {
      "text/html": [
       "<div>\n",
       "<style scoped>\n",
       "    .dataframe tbody tr th:only-of-type {\n",
       "        vertical-align: middle;\n",
       "    }\n",
       "\n",
       "    .dataframe tbody tr th {\n",
       "        vertical-align: top;\n",
       "    }\n",
       "\n",
       "    .dataframe thead th {\n",
       "        text-align: right;\n",
       "    }\n",
       "</style>\n",
       "<table border=\"1\" class=\"dataframe\">\n",
       "  <thead>\n",
       "    <tr style=\"text-align: right;\">\n",
       "      <th></th>\n",
       "      <th>MINUTES</th>\n",
       "      <th>USAGE RATE</th>\n",
       "      <th>DAYSREST</th>\n",
       "      <th>YAHOO_FANTASYPOINTS</th>\n",
       "      <th>FG</th>\n",
       "      <th>FGA</th>\n",
       "      <th>3P</th>\n",
       "      <th>3PA</th>\n",
       "      <th>FT</th>\n",
       "      <th>FTA</th>\n",
       "      <th>...</th>\n",
       "      <th>POSITION_C</th>\n",
       "      <th>POSITION_F</th>\n",
       "      <th>POSITION_F-C</th>\n",
       "      <th>POSITION_G</th>\n",
       "      <th>POSITION_G-F</th>\n",
       "      <th>POSITION_PF</th>\n",
       "      <th>POSITION_PG</th>\n",
       "      <th>POSITION_SF</th>\n",
       "      <th>POSITION_SG</th>\n",
       "      <th>POSITION_Unknown</th>\n",
       "    </tr>\n",
       "  </thead>\n",
       "  <tbody>\n",
       "    <tr>\n",
       "      <th>0</th>\n",
       "      <td>22.90</td>\n",
       "      <td>20.38</td>\n",
       "      <td>4</td>\n",
       "      <td>11.70</td>\n",
       "      <td>3</td>\n",
       "      <td>8</td>\n",
       "      <td>0</td>\n",
       "      <td>4</td>\n",
       "      <td>0</td>\n",
       "      <td>0</td>\n",
       "      <td>...</td>\n",
       "      <td>0</td>\n",
       "      <td>0</td>\n",
       "      <td>0</td>\n",
       "      <td>0</td>\n",
       "      <td>0</td>\n",
       "      <td>1</td>\n",
       "      <td>0</td>\n",
       "      <td>0</td>\n",
       "      <td>0</td>\n",
       "      <td>0</td>\n",
       "    </tr>\n",
       "    <tr>\n",
       "      <th>1</th>\n",
       "      <td>34.22</td>\n",
       "      <td>14.88</td>\n",
       "      <td>4</td>\n",
       "      <td>22.20</td>\n",
       "      <td>3</td>\n",
       "      <td>10</td>\n",
       "      <td>2</td>\n",
       "      <td>7</td>\n",
       "      <td>0</td>\n",
       "      <td>0</td>\n",
       "      <td>...</td>\n",
       "      <td>0</td>\n",
       "      <td>0</td>\n",
       "      <td>0</td>\n",
       "      <td>0</td>\n",
       "      <td>0</td>\n",
       "      <td>0</td>\n",
       "      <td>0</td>\n",
       "      <td>1</td>\n",
       "      <td>0</td>\n",
       "      <td>0</td>\n",
       "    </tr>\n",
       "    <tr>\n",
       "      <th>2</th>\n",
       "      <td>36.82</td>\n",
       "      <td>32.50</td>\n",
       "      <td>4</td>\n",
       "      <td>42.00</td>\n",
       "      <td>9</td>\n",
       "      <td>21</td>\n",
       "      <td>1</td>\n",
       "      <td>4</td>\n",
       "      <td>4</td>\n",
       "      <td>5</td>\n",
       "      <td>...</td>\n",
       "      <td>1</td>\n",
       "      <td>0</td>\n",
       "      <td>0</td>\n",
       "      <td>0</td>\n",
       "      <td>0</td>\n",
       "      <td>0</td>\n",
       "      <td>0</td>\n",
       "      <td>0</td>\n",
       "      <td>0</td>\n",
       "      <td>0</td>\n",
       "    </tr>\n",
       "    <tr>\n",
       "      <th>3</th>\n",
       "      <td>24.33</td>\n",
       "      <td>18.98</td>\n",
       "      <td>4</td>\n",
       "      <td>11.60</td>\n",
       "      <td>2</td>\n",
       "      <td>7</td>\n",
       "      <td>0</td>\n",
       "      <td>0</td>\n",
       "      <td>1</td>\n",
       "      <td>2</td>\n",
       "      <td>...</td>\n",
       "      <td>0</td>\n",
       "      <td>0</td>\n",
       "      <td>0</td>\n",
       "      <td>0</td>\n",
       "      <td>0</td>\n",
       "      <td>0</td>\n",
       "      <td>1</td>\n",
       "      <td>0</td>\n",
       "      <td>0</td>\n",
       "      <td>0</td>\n",
       "    </tr>\n",
       "    <tr>\n",
       "      <th>4</th>\n",
       "      <td>42.73</td>\n",
       "      <td>21.25</td>\n",
       "      <td>4</td>\n",
       "      <td>64.00</td>\n",
       "      <td>7</td>\n",
       "      <td>14</td>\n",
       "      <td>0</td>\n",
       "      <td>0</td>\n",
       "      <td>5</td>\n",
       "      <td>10</td>\n",
       "      <td>...</td>\n",
       "      <td>0</td>\n",
       "      <td>0</td>\n",
       "      <td>0</td>\n",
       "      <td>0</td>\n",
       "      <td>0</td>\n",
       "      <td>0</td>\n",
       "      <td>1</td>\n",
       "      <td>0</td>\n",
       "      <td>0</td>\n",
       "      <td>0</td>\n",
       "    </tr>\n",
       "  </tbody>\n",
       "</table>\n",
       "<p>5 rows × 625 columns</p>\n",
       "</div>"
      ],
      "text/plain": [
       "   MINUTES  USAGE RATE  DAYSREST  YAHOO_FANTASYPOINTS  FG  FGA  3P  3PA  FT  \\\n",
       "0    22.90       20.38         4                11.70   3    8   0    4   0   \n",
       "1    34.22       14.88         4                22.20   3   10   2    7   0   \n",
       "2    36.82       32.50         4                42.00   9   21   1    4   4   \n",
       "3    24.33       18.98         4                11.60   2    7   0    0   1   \n",
       "4    42.73       21.25         4                64.00   7   14   0    0   5   \n",
       "\n",
       "   FTA  ...  POSITION_C  POSITION_F  POSITION_F-C  POSITION_G  POSITION_G-F  \\\n",
       "0    0  ...           0           0             0           0             0   \n",
       "1    0  ...           0           0             0           0             0   \n",
       "2    5  ...           1           0             0           0             0   \n",
       "3    2  ...           0           0             0           0             0   \n",
       "4   10  ...           0           0             0           0             0   \n",
       "\n",
       "   POSITION_PF  POSITION_PG  POSITION_SF  POSITION_SG  POSITION_Unknown  \n",
       "0            1            0            0            0                 0  \n",
       "1            0            0            1            0                 0  \n",
       "2            0            0            0            0                 0  \n",
       "3            0            1            0            0                 0  \n",
       "4            0            1            0            0                 0  \n",
       "\n",
       "[5 rows x 625 columns]"
      ]
     },
     "execution_count": 5,
     "metadata": {},
     "output_type": "execute_result"
    }
   ],
   "source": [
    "df = pd.read_csv(\"Cleaned-Dummies_NBA1819_PlayerStats-DFS.csv\")\n",
    "\n",
    "# Dropping the DRAFTKINGS/FANDUEL columns in favor of YAHOO; unncessary columns\n",
    "del_cols = ['Unnamed: 0','GAME-ID', 'DATE', 'PLAYER-ID', 'MIN',\n",
    "            'DRAFTKINGS_FANTASYPOINTS', 'FANDUEL_FANTASYPOINTS',\n",
    "            'DRAFTKINGS_CLASSIC_SALARY', 'FANDUEL_FULLROSTER_SALARY',\n",
    "            'YAHOO_FULLSLATE_SALARY']\n",
    "\n",
    "df.drop(del_cols, axis=1, inplace=True)\n",
    "df.head()"
   ]
  },
  {
   "cell_type": "code",
   "execution_count": 6,
   "metadata": {},
   "outputs": [],
   "source": [
    "#df.info(verbose=True, null_counts=True)"
   ]
  },
  {
   "cell_type": "code",
   "execution_count": 7,
   "metadata": {},
   "outputs": [],
   "source": [
    "# pos_df = df.filter(regex='POSITION')\n",
    "# pos_df.head()\n",
    "\n",
    "# player_df = df.filter(regex='PLAYER')\n",
    "# player_df.head()"
   ]
  },
  {
   "cell_type": "markdown",
   "metadata": {},
   "source": [
    "### Data Preprocessing"
   ]
  },
  {
   "cell_type": "code",
   "execution_count": 8,
   "metadata": {},
   "outputs": [],
   "source": [
    "# Split into explanatory and response variables\n",
    "X = df.drop('YAHOO_FANTASYPOINTS', axis=1) #player_df #pos_df \n",
    "y = df['YAHOO_FANTASYPOINTS']"
   ]
  },
  {
   "cell_type": "code",
   "execution_count": 9,
   "metadata": {},
   "outputs": [],
   "source": [
    "# Split into train and test\n",
    "X_train, X_test, y_train, y_test = train_test_split(X, y, test_size=0.3, random_state=42)"
   ]
  },
  {
   "cell_type": "code",
   "execution_count": 10,
   "metadata": {},
   "outputs": [],
   "source": [
    "# Fit standard scaler to training set\n",
    "standardscaler = StandardScaler()\n",
    "standardscaler.fit(X_train)\n",
    "\n",
    "# Transform the feature variables\n",
    "X_train_std = standardscaler.transform(X_train)\n",
    "X_test_std = standardscaler.transform(X_test)"
   ]
  },
  {
   "cell_type": "markdown",
   "metadata": {},
   "source": [
    "### Instantiate Model"
   ]
  },
  {
   "cell_type": "code",
   "execution_count": null,
   "metadata": {},
   "outputs": [],
   "source": [
    "# Instantiate the model\n",
    "rf_regressor = RandomForestRegressor()\n",
    "rf_regressor.fit(X_train_std, y_train)"
   ]
  },
  {
   "cell_type": "code",
   "execution_count": null,
   "metadata": {},
   "outputs": [],
   "source": [
    "# Predict and score the model\n",
    "y_test_preds = rf_regressor.predict(X_test_std)\n",
    "\n",
    "\"The R-squared score for the model using the quantitative variables was {} on {} values.\".format(r2_score(y_test, y_test_preds), len(y_test))"
   ]
  },
  {
   "cell_type": "markdown",
   "metadata": {},
   "source": [
    "#### Feature Importance"
   ]
  },
  {
   "cell_type": "code",
   "execution_count": null,
   "metadata": {},
   "outputs": [],
   "source": [
    "X_colnames = df.drop(['YAHOO_FANTASYPOINTS'], axis=1).columns\n",
    "#pos_colnames = pos_df.columns\n",
    "#player_colnames = player_df.columns\n",
    "\n",
    "top_features = get_feature_importance(rf_regressor, X_colnames, num_features=10)\n",
    "top_features"
   ]
  },
  {
   "cell_type": "code",
   "execution_count": null,
   "metadata": {},
   "outputs": [],
   "source": [
    "top_features.replace({\n",
    "    'PTS':'Points',\n",
    "    'TOT':'Total Rebounds',\n",
    "    'A':'Assists',\n",
    "    'ST':'Steals',\n",
    "    'BL':'Blocks',\n",
    "    'TO':'Turnovers',\n",
    "    'DR':'Defensive Rebounds',\n",
    "    'FGA':'Field Goal Attempts'\n",
    "}, inplace=True)"
   ]
  },
  {
   "cell_type": "code",
   "execution_count": null,
   "metadata": {},
   "outputs": [],
   "source": [
    "top_features.plot(x='Feature', y='Importance', kind='bar', figsize=(12,8), rot=45)\n",
    "plt.title('Feature Importance in relation to Fantasy Score \\n NBA 2018-2019 Season')\n",
    "plt.xlabel('Features')\n",
    "#plt.savefig('../images/FeatureImportance_FantasyScore_NBA1819.png')"
   ]
  },
  {
   "cell_type": "markdown",
   "metadata": {},
   "source": [
    " "
   ]
  },
  {
   "cell_type": "code",
   "execution_count": null,
   "metadata": {},
   "outputs": [],
   "source": []
  }
 ],
 "metadata": {
  "kernelspec": {
   "display_name": "Python 3",
   "language": "python",
   "name": "python3"
  },
  "language_info": {
   "codemirror_mode": {
    "name": "ipython",
    "version": 3
   },
   "file_extension": ".py",
   "mimetype": "text/x-python",
   "name": "python",
   "nbconvert_exporter": "python",
   "pygments_lexer": "ipython3",
   "version": "3.8.1"
  }
 },
 "nbformat": 4,
 "nbformat_minor": 4
}
