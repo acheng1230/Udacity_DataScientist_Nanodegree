{
 "cells": [
  {
   "cell_type": "markdown",
   "metadata": {},
   "source": [
    "# Introduction to Object Oriented Programing"
   ]
  },
  {
   "cell_type": "markdown",
   "metadata": {},
   "source": [
    "## Exercise: Pants and SalesPerson Class"
   ]
  },
  {
   "cell_type": "markdown",
   "metadata": {},
   "source": [
    "### Pants class\n",
    "\n",
    "Write a Pants class with the following characteristics:\n",
    "* the class name should be Pants\n",
    "* the class attributes should include\n",
    " * color\n",
    " * waist_size\n",
    " * length\n",
    " * price\n",
    "* the class should have an init function that initializes all of the attributes\n",
    "* the class should have two methods\n",
    " * change_price() a method to change the price attribute\n",
    " * discount() to calculate a discount"
   ]
  },
  {
   "cell_type": "code",
   "execution_count": 1,
   "metadata": {},
   "outputs": [],
   "source": [
    "class Pants:\n",
    "    \"\"\"\n",
    "    The Pants class represents an article of clothing sold in store.\n",
    "    \"\"\"\n",
    "    \n",
    "    def __init__(self, color, waist_size, length, price):\n",
    "        \"\"\"\n",
    "        Method for initializing a Pants object\n",
    "        \n",
    "        Args:\n",
    "            color (str)\n",
    "            waist_size (int)\n",
    "            length (int)\n",
    "            price (float)\n",
    "        \n",
    "        Attributes:\n",
    "            color (str): color of a pants object\n",
    "            waist_size (int): waist size of pants object\n",
    "            length (int): length of pants object\n",
    "            price (float): price of a pants object\n",
    "        \"\"\"\n",
    "        self.color = color\n",
    "        self.waist_size = waist_size\n",
    "        self.length = length\n",
    "        self.price = price\n",
    "    \n",
    "    def change_price(self, new_price):\n",
    "        \"\"\"\n",
    "        The change_price() function is a method to change \n",
    "        the price attribute of a pants object.\n",
    "        \n",
    "        Args:\n",
    "            new_price (float): the new price of a pants object\n",
    "            \n",
    "        Returns:\n",
    "            None\n",
    "        \"\"\"\n",
    "        self.price = new_price\n",
    "        \n",
    "    def discount(self, discount):\n",
    "        \"\"\"\n",
    "        The discount() function is a method to output a discounted\n",
    "        price of a pants object\n",
    "        \n",
    "        Args:\n",
    "            percentage (float): a decimal representing the amount to discount\n",
    "            \n",
    "        Returns:\n",
    "            float: the discounted price\n",
    "        \"\"\"\n",
    "        return self.price * (1 - discount)"
   ]
  },
  {
   "cell_type": "code",
   "execution_count": 2,
   "metadata": {},
   "outputs": [
    {
     "data": {
      "text/plain": [
       "<__main__.Pants at 0x7ff542743c40>"
      ]
     },
     "execution_count": 2,
     "metadata": {},
     "output_type": "execute_result"
    }
   ],
   "source": [
    "test = Pants('red', 35, 36, 15.12)\n",
    "test"
   ]
  },
  {
   "cell_type": "markdown",
   "metadata": {},
   "source": [
    "### SalesPerson class\n",
    "\n",
    "The Pants class and Shirt class are quite similar. Here is an exercise to give you more practice writing a class. **This exercise is trickier than the previous exercises.**\n",
    "\n",
    "Write a SalesPerson class with the following characteristics:\n",
    "* the class name should be SalesPerson\n",
    "* the class attributes should include\n",
    " * first_name \n",
    " * last_name\n",
    " * employee_id\n",
    " * salary\n",
    " * pants_sold\n",
    " * total_sales\n",
    "* the class should have an init function that initializes all of the attributes\n",
    "* the class should have four methods\n",
    " * sell_pants() a method to change the price attribute\n",
    " * calculate_sales() a method to calculate the sales\n",
    " * display_sales() a method to print out all the pants sold with nice formatting\n",
    " * calculate_commission() a method to calculate the salesperson commission based on total sales and a percentage"
   ]
  },
  {
   "cell_type": "code",
   "execution_count": 3,
   "metadata": {},
   "outputs": [],
   "source": [
    "class SalesPerson:\n",
    "    \"\"\"\n",
    "    The SalesPerson class represents an employee in the store\n",
    "    \"\"\"\n",
    "    \n",
    "    def __init__(self, first_name, last_name, employee_id, salary):\n",
    "        \"\"\"\n",
    "        Method for initializing a SalesPerson class\n",
    "        \n",
    "        Args:\n",
    "            first_name (str)\n",
    "            last_name (str)\n",
    "            employee_id (int)\n",
    "            salary (float)\n",
    "            \n",
    "        Attributes:\n",
    "            first_name (str): first name of the employee\n",
    "            last_name (str): last name of the employee\n",
    "            employee_id (int): id number of the employee\n",
    "            salary (float): yearly salary of the employee\n",
    "            pants_sold (list): a list of pants objects sold by employee\n",
    "            total_sales (float): sum of all sales made by employee\n",
    "        \"\"\"\n",
    "        self.first_name = first_name\n",
    "        self.last_name = last_name\n",
    "        self.employee_id = employee_id\n",
    "        self.salary = salary\n",
    "        self.pants_sold = []\n",
    "        self.total_sales = 0\n",
    "        \n",
    "    def sell_pants(self, pants_object):\n",
    "        \"\"\"\n",
    "        The sell_pants() function is a method to append a pants object\n",
    "        to the pants_sold attribute.\n",
    "        \n",
    "        Args:\n",
    "            pants_object (obj): a pants object that was sold\n",
    "        \n",
    "        Returns:\n",
    "            None\n",
    "        \"\"\"\n",
    "        self.pants_sold.append(pants_object)\n",
    "        \n",
    "    def display_sales(self):\n",
    "        \"\"\"\n",
    "        The display_sales() function is a method to print out all pants that \n",
    "        have been sold.\n",
    "        \n",
    "        Args:\n",
    "            None\n",
    "        \n",
    "        Returns:\n",
    "            Prints out all pants, pant attributes sold\n",
    "        \"\"\"\n",
    "        for pants in self.pants_sold:\n",
    "            print('color: {}, waist size: {}, length: {}, price: {}'\\\n",
    "                 .format(pants.color, pants.waist_size, pants.length, pants.price))\n",
    "            \n",
    "    \n",
    "    def calculate_sales(self):\n",
    "        \"\"\"\n",
    "        The calculate_sales() function is a method to sum the total price \n",
    "        of all pants sold\n",
    "        \n",
    "        Args:\n",
    "            None\n",
    "            \n",
    "        Returns:\n",
    "            float: sum of the price for all pants sold\n",
    "        \"\"\"\n",
    "        total = 0\n",
    "        for pants in self.pants_sold:\n",
    "            total += pants.price\n",
    "            \n",
    "        self.total_sales = total\n",
    "        \n",
    "        return total\n",
    "    \n",
    "    def calculate_commission(self, percentage):\n",
    "        \"\"\"\n",
    "        The calculate_commission() function is a method that outputs the commission\n",
    "        based on sales\n",
    "        \n",
    "        Args:\n",
    "            percentage (float): the commission percentage as a decimal\n",
    "            \n",
    "        Returns:\n",
    "            float: the commission due\n",
    "        \"\"\"\n",
    "        sales_total = self.calculate_sales()\n",
    "        return sales_total * percentage\n",
    "        "
   ]
  },
  {
   "cell_type": "markdown",
   "metadata": {},
   "source": [
    "### Check Results"
   ]
  },
  {
   "cell_type": "code",
   "execution_count": 4,
   "metadata": {},
   "outputs": [
    {
     "name": "stdout",
     "output_type": "stream",
     "text": [
      "Great job, you made it to the end of the code checks!\n"
     ]
    }
   ],
   "source": [
    "def check_results():\n",
    "    pants_one = Pants('red', 35, 36, 15.12)\n",
    "    pants_two = Pants('blue', 40, 38, 24.12)\n",
    "    pants_three = Pants('tan', 28, 30, 8.12)\n",
    "    \n",
    "    salesperson = SalesPerson('Amy', 'Gonzalez', 2581923, 40000)\n",
    "    \n",
    "    assert salesperson.first_name == 'Amy'\n",
    "    assert salesperson.last_name == 'Gonzalez'\n",
    "    assert salesperson.employee_id == 2581923\n",
    "    assert salesperson.salary == 40000\n",
    "    assert salesperson.pants_sold == []\n",
    "    assert salesperson.total_sales == 0\n",
    "    \n",
    "    salesperson.sell_pants(pants_one)\n",
    "    salesperson.pants_sold[0] == pants_one.color\n",
    "    \n",
    "    salesperson.sell_pants(pants_two)\n",
    "    salesperson.sell_pants(pants_three)\n",
    "    \n",
    "    assert len(salesperson.pants_sold) == 3\n",
    "    assert round(salesperson.calculate_sales(),2) == 47.36\n",
    "    assert round(salesperson.calculate_commission(.1),2) == 4.74\n",
    "    \n",
    "    print('Great job, you made it to the end of the code checks!')\n",
    "    \n",
    "check_results()"
   ]
  },
  {
   "cell_type": "markdown",
   "metadata": {},
   "source": [
    "### Check display_sales() method\n",
    "\n",
    "If you run the code cell below, you should get output similar to this:\n",
    "\n",
    "```python\n",
    "color: red, waist_size: 35, length: 36, price: 15.12\n",
    "color: blue, waist_size: 40, length: 38, price: 24.12\n",
    "color: tan, waist_size: 28, length: 30, price: 8.12\n",
    "```"
   ]
  },
  {
   "cell_type": "code",
   "execution_count": 5,
   "metadata": {},
   "outputs": [
    {
     "name": "stdout",
     "output_type": "stream",
     "text": [
      "color: red, waist size: 35, length: 36, price: 15.12\n",
      "color: blue, waist size: 40, length: 38, price: 24.12\n",
      "color: tan, waist size: 28, length: 30, price: 8.12\n"
     ]
    }
   ],
   "source": [
    "pants_one = Pants('red', 35, 36, 15.12)\n",
    "pants_two = Pants('blue', 40, 38, 24.12)\n",
    "pants_three = Pants('tan', 28, 30, 8.12)\n",
    "\n",
    "salesperson = SalesPerson('Amy', 'Gonzalez', 2581923, 40000)\n",
    "\n",
    "salesperson.sell_pants(pants_one)    \n",
    "salesperson.sell_pants(pants_two)\n",
    "salesperson.sell_pants(pants_three)\n",
    "\n",
    "salesperson.display_sales()"
   ]
  },
  {
   "cell_type": "code",
   "execution_count": null,
   "metadata": {},
   "outputs": [],
   "source": []
  }
 ],
 "metadata": {
  "kernelspec": {
   "display_name": "Python 3",
   "language": "python",
   "name": "python3"
  },
  "language_info": {
   "codemirror_mode": {
    "name": "ipython",
    "version": 3
   },
   "file_extension": ".py",
   "mimetype": "text/x-python",
   "name": "python",
   "nbconvert_exporter": "python",
   "pygments_lexer": "ipython3",
   "version": "3.8.1"
  }
 },
 "nbformat": 4,
 "nbformat_minor": 4
}
